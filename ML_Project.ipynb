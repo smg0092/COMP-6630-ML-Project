{
 "cells": [
  {
   "cell_type": "code",
   "execution_count": 9,
   "id": "741855df",
   "metadata": {},
   "outputs": [
    {
     "name": "stderr",
     "output_type": "stream",
     "text": [
      "2024-10-29 12:57:56.903501: I tensorflow/core/platform/cpu_feature_guard.cc:193] This TensorFlow binary is optimized with oneAPI Deep Neural Network Library (oneDNN) to use the following CPU instructions in performance-critical operations:  SSE4.1 SSE4.2\n",
      "To enable them in other operations, rebuild TensorFlow with the appropriate compiler flags.\n"
     ]
    }
   ],
   "source": [
    "# Import required packages\n",
    "import tensorflow as tf\n",
    "import numpy as np\n",
    "import pandas as pd\n",
    "import matplotlib.pyplot as plt\n",
    "import matplotlib.image as mpimg\n",
    "from sklearn.model_selection import train_test_split\n",
    "from sklearn.linear_model import LogisticRegression\n",
    "from sklearn.metrics import accuracy_score, classification_report\n",
    "from skimage.io import imread\n",
    "from skimage.transform import resize\n",
    "import os"
   ]
  },
  {
   "cell_type": "code",
   "execution_count": 29,
   "id": "ab293af5",
   "metadata": {},
   "outputs": [],
   "source": [
    "# Import image data, including flattening the images and converting them to an array\n",
    "normal_folder_path = 'COVID-19_Radiography_Dataset/Normal/images'\n",
    "covid_folder_path = 'COVID-19_Radiography_Dataset/COVID/images'\n",
    "images = []\n",
    "labels = []\n",
    "for image in os.listdir(normal_folder_path):\n",
    "    image_path = os.path.join(normal_folder_path, image)\n",
    "    i = mpimg.imread(image_path)\n",
    "    #i = resize(i, (299,299))\n",
    "    flati = i.flatten()\n",
    "    images.append(flati)\n",
    "    labels.append(0)\n",
    "for image in os.listdir(covid_folder_path):\n",
    "    image_path = os.path.join(covid_folder_path, image)\n",
    "    i = mpimg.imread(image_path)\n",
    "    #i = resize(i, (299,299))\n",
    "    flati = i.flatten()\n",
    "    images.append(flati)\n",
    "    labels.append(1)\n",
    "X , y = np.array(images, dtype = 'float32'), np.array(labels, dtype = 'int')"
   ]
  },
  {
   "cell_type": "code",
   "execution_count": 30,
   "id": "1ced10ab",
   "metadata": {},
   "outputs": [],
   "source": [
    "# Split the data into test and train data\n",
    "X_train, X_test, y_train, y_test = train_test_split(X, y, test_size=0.2, random_state=42)"
   ]
  },
  {
   "cell_type": "code",
   "execution_count": 32,
   "id": "34992af2",
   "metadata": {},
   "outputs": [
    {
     "name": "stderr",
     "output_type": "stream",
     "text": [
      "/Users/jacobpennington/opt/anaconda3/lib/python3.9/site-packages/sklearn/linear_model/_logistic.py:814: ConvergenceWarning: lbfgs failed to converge (status=1):\n",
      "STOP: TOTAL NO. of ITERATIONS REACHED LIMIT.\n",
      "\n",
      "Increase the number of iterations (max_iter) or scale the data as shown in:\n",
      "    https://scikit-learn.org/stable/modules/preprocessing.html\n",
      "Please also refer to the documentation for alternative solver options:\n",
      "    https://scikit-learn.org/stable/modules/linear_model.html#logistic-regression\n",
      "  n_iter_i = _check_optimize_result(\n"
     ]
    },
    {
     "data": {
      "text/plain": [
       "LogisticRegression()"
      ]
     },
     "execution_count": 32,
     "metadata": {},
     "output_type": "execute_result"
    }
   ],
   "source": [
    "model = LogisticRegression(max_iter=100, solver='lbfgs')\n",
    "model.fit(X_train, y_train)"
   ]
  },
  {
   "cell_type": "code",
   "execution_count": null,
   "id": "b0908c18",
   "metadata": {},
   "outputs": [],
   "source": []
  }
 ],
 "metadata": {
  "kernelspec": {
   "display_name": "Python 3 (ipykernel)",
   "language": "python",
   "name": "python3"
  },
  "language_info": {
   "codemirror_mode": {
    "name": "ipython",
    "version": 3
   },
   "file_extension": ".py",
   "mimetype": "text/x-python",
   "name": "python",
   "nbconvert_exporter": "python",
   "pygments_lexer": "ipython3",
   "version": "3.9.13"
  }
 },
 "nbformat": 4,
 "nbformat_minor": 5
}
