{
 "cells": [
  {
   "cell_type": "markdown",
   "metadata": {},
   "source": [
    "### IMPORTS"
   ]
  },
  {
   "cell_type": "code",
   "execution_count": 225,
   "metadata": {},
   "outputs": [],
   "source": [
    "import os\n",
    "import kagglehub\n",
    "import pandas as pd\n",
    "import numpy as np\n",
    "import matplotlib.image as mpimg\n",
    "from sklearn.model_selection import train_test_split\n",
    "from PIL import Image\n",
    "import numpy as np\n",
    "\n"
   ]
  },
  {
   "cell_type": "markdown",
   "metadata": {},
   "source": [
    "### HELPER FUNCTIONS"
   ]
  },
  {
   "cell_type": "code",
   "execution_count": 226,
   "metadata": {},
   "outputs": [],
   "source": [
    "def get_subdirectories(folder_path):\n",
    "    subdirectory_path_list = []\n",
    "    subdirectory_names = os.listdir(folder_path)\n",
    "\n",
    "    for subdirectories in subdirectory_names:\n",
    "        full_path = os.path.join(folder_path, subdirectories)\n",
    "        subdirectory_path_list.append(full_path)\n",
    "    \n",
    "    return subdirectory_path_list\n",
    "\n",
    "def get_image(image_file):\n",
    "    # Load the image\n",
    "    image = Image.open(image_file)\n",
    "    # Convert the image to a NumPy array\n",
    "    image_array = np.array(image)\n",
    "    return image_array\n",
    "    \n",
    "\n",
    "def preprocess_dataset(class_files):\n",
    "    label_list  = []\n",
    "\n",
    "    for i in range(len(class_files)):\n",
    "        subdirectories = get_subdirectories(class_files[i])\n",
    "        subdirectories.sort()\n",
    "\n",
    "        class_files[i] = subdirectories\n",
    "        \n",
    "        for sub in subdirectories: \n",
    "            label_list.append(i)\n",
    "\n",
    "    #Combining the classes together\n",
    "    concated_list = []\n",
    "    for classes in class_files:\n",
    "        concated_list.extend(classes)\n",
    "\n",
    "    #Shuffling the classes\n",
    "    concated_list = np.array(concated_list)\n",
    "    label_list = np.array(label_list)\n",
    "\n",
    "    # Generate a random permutation of indices\n",
    "    indices = np.random.permutation(len(concated_list))\n",
    "\n",
    "    # Apply the permutation to both lists\n",
    "    shuffled_class_list = concated_list[indices]\n",
    "    shuffled_label_list = label_list[indices]\n",
    "    \n",
    "    shuffled_class_list = [get_image(image_file) for image_file in shuffled_class_list]\n",
    "\n",
    "    return shuffled_class_list, shuffled_label_list"
   ]
  },
  {
   "cell_type": "code",
   "execution_count": 227,
   "metadata": {},
   "outputs": [
    {
     "name": "stdout",
     "output_type": "stream",
     "text": [
      "Path to files /home/smg0092/.cache/kagglehub/datasets/tawsifurrahman/covid19-radiography-database/versions/5\n",
      "['COVID-19_Radiography_Dataset']\n"
     ]
    }
   ],
   "source": [
    "path = kagglehub.dataset_download(\"tawsifurrahman/covid19-radiography-database\")\n",
    "files = os.listdir(path)\n",
    "print(\"Path to files\", path)\n",
    "print(files)"
   ]
  },
  {
   "cell_type": "code",
   "execution_count": 228,
   "metadata": {},
   "outputs": [
    {
     "name": "stdout",
     "output_type": "stream",
     "text": [
      "['/home/smg0092/.cache/kagglehub/datasets/tawsifurrahman/covid19-radiography-database/versions/5/COVID-19_Radiography_Dataset/Viral Pneumonia'\n",
      " '/home/smg0092/.cache/kagglehub/datasets/tawsifurrahman/covid19-radiography-database/versions/5/COVID-19_Radiography_Dataset/COVID'\n",
      " '/home/smg0092/.cache/kagglehub/datasets/tawsifurrahman/covid19-radiography-database/versions/5/COVID-19_Radiography_Dataset/Viral Pneumonia.metadata.xlsx'\n",
      " '/home/smg0092/.cache/kagglehub/datasets/tawsifurrahman/covid19-radiography-database/versions/5/COVID-19_Radiography_Dataset/Lung_Opacity.metadata.xlsx'\n",
      " '/home/smg0092/.cache/kagglehub/datasets/tawsifurrahman/covid19-radiography-database/versions/5/COVID-19_Radiography_Dataset/COVID.metadata.xlsx'\n",
      " '/home/smg0092/.cache/kagglehub/datasets/tawsifurrahman/covid19-radiography-database/versions/5/COVID-19_Radiography_Dataset/Normal'\n",
      " '/home/smg0092/.cache/kagglehub/datasets/tawsifurrahman/covid19-radiography-database/versions/5/COVID-19_Radiography_Dataset/Lung_Opacity'\n",
      " '/home/smg0092/.cache/kagglehub/datasets/tawsifurrahman/covid19-radiography-database/versions/5/COVID-19_Radiography_Dataset/README.md.txt'\n",
      " '/home/smg0092/.cache/kagglehub/datasets/tawsifurrahman/covid19-radiography-database/versions/5/COVID-19_Radiography_Dataset/Normal.metadata.xlsx']\n"
     ]
    }
   ],
   "source": [
    "main_folder = os.path.join(path, files[0])\n",
    "files_list = get_subdirectories(main_folder)\n",
    "print(np.array(files_list))"
   ]
  },
  {
   "cell_type": "code",
   "execution_count": 229,
   "metadata": {},
   "outputs": [
    {
     "name": "stdout",
     "output_type": "stream",
     "text": [
      "['/home/smg0092/.cache/kagglehub/datasets/tawsifurrahman/covid19-radiography-database/versions/5/COVID-19_Radiography_Dataset/Normal/masks', '/home/smg0092/.cache/kagglehub/datasets/tawsifurrahman/covid19-radiography-database/versions/5/COVID-19_Radiography_Dataset/Normal/images']\n",
      "['/home/smg0092/.cache/kagglehub/datasets/tawsifurrahman/covid19-radiography-database/versions/5/COVID-19_Radiography_Dataset/COVID/masks', '/home/smg0092/.cache/kagglehub/datasets/tawsifurrahman/covid19-radiography-database/versions/5/COVID-19_Radiography_Dataset/COVID/images']\n"
     ]
    }
   ],
   "source": [
    "#Getting the files from the dataset\n",
    "normal_file = files_list[5]\n",
    "normal_subdirectories = get_subdirectories(normal_file)\n",
    "print(normal_subdirectories)\n",
    "\n",
    "covid_file = files_list[1]\n",
    "coivd_subdirectories = get_subdirectories(covid_file)\n",
    "print(coivd_subdirectories)\n",
    "\n",
    "covid_images = coivd_subdirectories[1]\n",
    "covid_mask = coivd_subdirectories[0]\n",
    "\n",
    "normal_images = normal_subdirectories[1]\n",
    "normal_mask = normal_subdirectories[0]"
   ]
  },
  {
   "cell_type": "code",
   "execution_count": 235,
   "metadata": {},
   "outputs": [],
   "source": [
    "class_files = [covid_images, normal_images]\n",
    "class_files, label_list = preprocess_dataset(class_files)"
   ]
  },
  {
   "cell_type": "code",
   "execution_count": 241,
   "metadata": {},
   "outputs": [],
   "source": [
    "X, y = np.array(class_files), np.array(label_list)"
   ]
  },
  {
   "cell_type": "code",
   "execution_count": 237,
   "metadata": {},
   "outputs": [
    {
     "name": "stdout",
     "output_type": "stream",
     "text": [
      "(13808, 299, 299)\n",
      "(13808,)\n"
     ]
    }
   ],
   "source": [
    "print(X.shape)\n",
    "print(y.shape)\n",
    "\n",
    "X_train, X_temp, y_train, y_temp = train_test_split(X, y, test_size=0.3, random_state=42)\n",
    "X_val, X_test, y_val, y_test = train_test_split(X_temp, y_temp, test_size=2/3, random_state=42)"
   ]
  },
  {
   "cell_type": "code",
   "execution_count": 239,
   "metadata": {},
   "outputs": [
    {
     "name": "stdout",
     "output_type": "stream",
     "text": [
      "Model: \"sequential_3\"\n",
      "_________________________________________________________________\n",
      " Layer (type)                Output Shape              Param #   \n",
      "=================================================================\n",
      " conv2d (Conv2D)             (None, 297, 297, 32)      320       \n",
      "                                                                 \n",
      " max_pooling2d (MaxPooling2D  (None, 148, 148, 32)     0         \n",
      " )                                                               \n",
      "                                                                 \n",
      " conv2d_1 (Conv2D)           (None, 146, 146, 64)      18496     \n",
      "                                                                 \n",
      " max_pooling2d_1 (MaxPooling  (None, 73, 73, 64)       0         \n",
      " 2D)                                                             \n",
      "                                                                 \n",
      " conv2d_2 (Conv2D)           (None, 71, 71, 128)       73856     \n",
      "                                                                 \n",
      " max_pooling2d_2 (MaxPooling  (None, 35, 35, 128)      0         \n",
      " 2D)                                                             \n",
      "                                                                 \n",
      " flatten (Flatten)           (None, 156800)            0         \n",
      "                                                                 \n",
      " dense_3 (Dense)             (None, 128)               20070528  \n",
      "                                                                 \n",
      " dropout (Dropout)           (None, 128)               0         \n",
      "                                                                 \n",
      " dense_4 (Dense)             (None, 10)                1290      \n",
      "                                                                 \n",
      "=================================================================\n",
      "Total params: 20,164,490\n",
      "Trainable params: 20,164,490\n",
      "Non-trainable params: 0\n",
      "_________________________________________________________________\n"
     ]
    }
   ],
   "source": [
    "from keras.models import Sequential\n",
    "from tensorflow.keras.optimizers import Adam\n",
    "from keras.layers import Dense, SimpleRNN, LSTM\n",
    "from tensorflow.keras.metrics import Precision, Recall\n",
    "from tensorflow.keras.layers import Conv2D, MaxPooling2D, Flatten, Dense, Dropout\n",
    "\n",
    "# Add a channel dimension: Shape becomes (100, 299, 299, 1)\n",
    "X = np.expand_dims(X, axis=-1)\n",
    "# Normalize pixel values to range [0, 1]\n",
    "X = X / 255.0\n",
    "\n",
    "# Build the CNN model\n",
    "model = Sequential([\n",
    "    Conv2D(32, (3, 3), activation='relu', input_shape=(299, 299, 1)),  # Input shape includes the channel\n",
    "    MaxPooling2D(pool_size=(2, 2)),\n",
    "    Conv2D(64, (3, 3), activation='relu'),\n",
    "    MaxPooling2D(pool_size=(2, 2)),\n",
    "    Conv2D(128, (3, 3), activation='relu'),\n",
    "    MaxPooling2D(pool_size=(2, 2)),\n",
    "    Flatten(),\n",
    "    Dense(128, activation='relu'),\n",
    "    Dropout(0.5),\n",
    "    Dense(10, activation='softmax')  # Adjust the output layer for your number of classes\n",
    "])\n",
    "\n",
    "model.compile(optimizer='adam', loss='sparse_categorical_crossentropy', metrics=['accuracy'])\n",
    "model.summary()"
   ]
  },
  {
   "cell_type": "code",
   "execution_count": 240,
   "metadata": {},
   "outputs": [
    {
     "name": "stdout",
     "output_type": "stream",
     "text": [
      "303/303 [==============================] - 182s 599ms/step - loss: 3.5324 - accuracy: 0.7852 - val_loss: 0.4393 - val_accuracy: 0.8309\n",
      "87/87 [==============================] - 13s 151ms/step - loss: 0.4393 - accuracy: 0.8309\n",
      "Test loss: 0.43929195404052734\n",
      "Test accuracy: 0.830919623374939\n",
      "87/87 [==============================] - 14s 156ms/step\n",
      "              precision    recall  f1-score   support\n",
      "\n",
      "       Covid       0.76      0.55      0.64       751\n",
      "      Normal       0.85      0.94      0.89      2011\n",
      "\n",
      "    accuracy                           0.83      2762\n",
      "   macro avg       0.80      0.74      0.76      2762\n",
      "weighted avg       0.82      0.83      0.82      2762\n",
      "\n"
     ]
    }
   ],
   "source": [
    "model_hist = model.fit(X_train, y_train, epochs=1, validation_data=(X_test, y_test))\n",
    "\n",
    "from sklearn.metrics import classification_report\n",
    "\n",
    "score = model.evaluate(X_test, y_test)\n",
    "print('Test loss:', score[0])\n",
    "print('Test accuracy:', score[1])\n",
    "\n",
    "y_pred = model.predict(X_test)  # Get predictions for the test data\n",
    "y_pred_classes = np.argmax(y_pred, axis=1)  # Convert predictions to class labels\n",
    "y_true = y_test  # True labels for the test data\n",
    "label_dict = {\"Covid\": 0, \"Normal\": 1}\n",
    "report = classification_report(y_true, y_pred_classes, target_names=label_dict)\n",
    "print(report)"
   ]
  }
 ],
 "metadata": {
  "kernelspec": {
   "display_name": "Python 3",
   "language": "python",
   "name": "python3"
  },
  "language_info": {
   "codemirror_mode": {
    "name": "ipython",
    "version": 3
   },
   "file_extension": ".py",
   "mimetype": "text/x-python",
   "name": "python",
   "nbconvert_exporter": "python",
   "pygments_lexer": "ipython3",
   "version": "3.10.12"
  },
  "orig_nbformat": 4
 },
 "nbformat": 4,
 "nbformat_minor": 2
}
