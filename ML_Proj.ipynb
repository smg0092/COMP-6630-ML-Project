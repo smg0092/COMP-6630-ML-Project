{
 "cells": [
  {
   "cell_type": "markdown",
   "metadata": {},
   "source": [
    "### IMPORTS"
   ]
  },
  {
   "cell_type": "code",
   "execution_count": 136,
   "metadata": {},
   "outputs": [],
   "source": [
    "import os\n",
    "import kagglehub\n",
    "import pandas as pd\n",
    "import numpy as np\n",
    "import matplotlib.image as mpimg\n",
    "from sklearn.model_selection import train_test_split\n",
    "from PIL import Image\n",
    "import numpy as np\n",
    "\n"
   ]
  },
  {
   "cell_type": "markdown",
   "metadata": {},
   "source": [
    "### HELPER FUNCTIONS"
   ]
  },
  {
   "cell_type": "code",
   "execution_count": 137,
   "metadata": {},
   "outputs": [],
   "source": [
    "def get_subdirectories(folder_path):\n",
    "    subdirectory_path_list = []\n",
    "    subdirectory_names = os.listdir(folder_path)\n",
    "\n",
    "    for subdirectories in subdirectory_names:\n",
    "        full_path = os.path.join(folder_path, subdirectories)\n",
    "        subdirectory_path_list.append(full_path)\n",
    "    \n",
    "    return subdirectory_path_list\n",
    "\n",
    "def get_image(image_file):\n",
    "    # Load the image\n",
    "    image = Image.open(image_file)\n",
    "    # Convert the image to a NumPy array\n",
    "    image_array = np.array(image)\n",
    "    return image_array\n",
    "    \n",
    "\n",
    "def preprocess_dataset(class_files):\n",
    "    label_list  = []\n",
    "\n",
    "    for i in range(len(class_files)):\n",
    "        subdirectories = get_subdirectories(class_files[i])\n",
    "        subdirectories.sort()\n",
    "\n",
    "        class_files[i] = subdirectories\n",
    "        \n",
    "        for sub in subdirectories: \n",
    "            label_list.append(i)\n",
    "\n",
    "    #Combining the classes together\n",
    "    concated_list = []\n",
    "    for classes in class_files:\n",
    "        concated_list.extend(classes)\n",
    "\n",
    "    #Shuffling the classes\n",
    "    concated_list = np.array(concated_list)\n",
    "    label_list = np.array(label_list)\n",
    "\n",
    "    concated_list.sort()\n",
    "    \n",
    "    print(concated_list[1])\n",
    "    print(label_list[1])\n",
    "\n",
    "    # Generate a random permutation of indices\n",
    "    indices = np.random.permutation(len(concated_list))\n",
    "\n",
    "    # Apply the permutation to both lists\n",
    "    shuffled_class_list = concated_list[indices]\n",
    "    shuffled_label_list = label_list[indices]\n",
    "    \n",
    "    # for image_file in shuffled_class_list: \n",
    "    #     image_file = get_image(image_file)\n",
    "\n",
    "    return shuffled_class_list, shuffled_label_list"
   ]
  },
  {
   "cell_type": "code",
   "execution_count": 138,
   "metadata": {},
   "outputs": [
    {
     "name": "stdout",
     "output_type": "stream",
     "text": [
      "Path to files /home/smg0092/.cache/kagglehub/datasets/tawsifurrahman/covid19-radiography-database/versions/5\n",
      "['COVID-19_Radiography_Dataset']\n"
     ]
    }
   ],
   "source": [
    "path = kagglehub.dataset_download(\"tawsifurrahman/covid19-radiography-database\")\n",
    "files = os.listdir(path)\n",
    "print(\"Path to files\", path)\n",
    "print(files)"
   ]
  },
  {
   "cell_type": "code",
   "execution_count": 139,
   "metadata": {},
   "outputs": [
    {
     "name": "stdout",
     "output_type": "stream",
     "text": [
      "['/home/smg0092/.cache/kagglehub/datasets/tawsifurrahman/covid19-radiography-database/versions/5/COVID-19_Radiography_Dataset/Viral Pneumonia'\n",
      " '/home/smg0092/.cache/kagglehub/datasets/tawsifurrahman/covid19-radiography-database/versions/5/COVID-19_Radiography_Dataset/COVID'\n",
      " '/home/smg0092/.cache/kagglehub/datasets/tawsifurrahman/covid19-radiography-database/versions/5/COVID-19_Radiography_Dataset/Viral Pneumonia.metadata.xlsx'\n",
      " '/home/smg0092/.cache/kagglehub/datasets/tawsifurrahman/covid19-radiography-database/versions/5/COVID-19_Radiography_Dataset/Lung_Opacity.metadata.xlsx'\n",
      " '/home/smg0092/.cache/kagglehub/datasets/tawsifurrahman/covid19-radiography-database/versions/5/COVID-19_Radiography_Dataset/COVID.metadata.xlsx'\n",
      " '/home/smg0092/.cache/kagglehub/datasets/tawsifurrahman/covid19-radiography-database/versions/5/COVID-19_Radiography_Dataset/Normal'\n",
      " '/home/smg0092/.cache/kagglehub/datasets/tawsifurrahman/covid19-radiography-database/versions/5/COVID-19_Radiography_Dataset/Lung_Opacity'\n",
      " '/home/smg0092/.cache/kagglehub/datasets/tawsifurrahman/covid19-radiography-database/versions/5/COVID-19_Radiography_Dataset/README.md.txt'\n",
      " '/home/smg0092/.cache/kagglehub/datasets/tawsifurrahman/covid19-radiography-database/versions/5/COVID-19_Radiography_Dataset/Normal.metadata.xlsx']\n"
     ]
    }
   ],
   "source": [
    "main_folder = os.path.join(path, files[0])\n",
    "files_list = get_subdirectories(main_folder)\n",
    "print(np.array(files_list))"
   ]
  },
  {
   "cell_type": "code",
   "execution_count": 140,
   "metadata": {},
   "outputs": [
    {
     "name": "stdout",
     "output_type": "stream",
     "text": [
      "['/home/smg0092/.cache/kagglehub/datasets/tawsifurrahman/covid19-radiography-database/versions/5/COVID-19_Radiography_Dataset/Normal/masks', '/home/smg0092/.cache/kagglehub/datasets/tawsifurrahman/covid19-radiography-database/versions/5/COVID-19_Radiography_Dataset/Normal/images']\n",
      "['/home/smg0092/.cache/kagglehub/datasets/tawsifurrahman/covid19-radiography-database/versions/5/COVID-19_Radiography_Dataset/COVID/masks', '/home/smg0092/.cache/kagglehub/datasets/tawsifurrahman/covid19-radiography-database/versions/5/COVID-19_Radiography_Dataset/COVID/images']\n"
     ]
    }
   ],
   "source": [
    "#Getting the files from the dataset\n",
    "normal_file = files_list[5]\n",
    "normal_subdirectories = get_subdirectories(normal_file)\n",
    "print(normal_subdirectories)\n",
    "\n",
    "covid_file = files_list[1]\n",
    "coivd_subdirectories = get_subdirectories(covid_file)\n",
    "print(coivd_subdirectories)\n",
    "\n",
    "covid_images = coivd_subdirectories[1]\n",
    "covid_mask = coivd_subdirectories[0]\n",
    "\n",
    "normal_images = normal_subdirectories[1]\n",
    "normal_mask = normal_subdirectories[0]"
   ]
  },
  {
   "cell_type": "code",
   "execution_count": 141,
   "metadata": {},
   "outputs": [
    {
     "name": "stdout",
     "output_type": "stream",
     "text": [
      "/home/smg0092/.cache/kagglehub/datasets/tawsifurrahman/covid19-radiography-database/versions/5/COVID-19_Radiography_Dataset/COVID/images/COVID-10.png\n",
      "0\n",
      "13808\n",
      "13808\n"
     ]
    }
   ],
   "source": [
    "class_files = [covid_images, normal_images]\n",
    "class_files, label_list = preprocess_dataset(class_files)\n",
    "\n",
    "print(len(label_list))\n",
    "print(len(class_files))"
   ]
  },
  {
   "cell_type": "code",
   "execution_count": 142,
   "metadata": {},
   "outputs": [],
   "source": [
    "\n",
    "# X_train, X_temp, y_train, y_temp = train_test_split(X, y, test_size=0.3, random_state=42)\n",
    "# X_val, X_test, y_val, y_test = train_test_split(X_temp, y_temp, test_size=2/3, random_state=42)"
   ]
  }
 ],
 "metadata": {
  "kernelspec": {
   "display_name": "Python 3",
   "language": "python",
   "name": "python3"
  },
  "language_info": {
   "codemirror_mode": {
    "name": "ipython",
    "version": 3
   },
   "file_extension": ".py",
   "mimetype": "text/x-python",
   "name": "python",
   "nbconvert_exporter": "python",
   "pygments_lexer": "ipython3",
   "version": "3.10.12"
  },
  "orig_nbformat": 4
 },
 "nbformat": 4,
 "nbformat_minor": 2
}
